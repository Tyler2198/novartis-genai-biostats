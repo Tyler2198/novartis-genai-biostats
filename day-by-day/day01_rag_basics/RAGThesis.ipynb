{
 "cells": [
  {
   "cell_type": "code",
   "execution_count": 1,
   "metadata": {},
   "outputs": [
    {
     "name": "stdout",
     "output_type": "stream",
     "text": [
      "Defaulting to user installation because normal site-packages is not writeable\n",
      "Requirement already satisfied: langchain_community in /Users/kryptonempyrean/Library/Python/3.9/lib/python/site-packages (0.3.20)\n",
      "Requirement already satisfied: tiktoken in /Users/kryptonempyrean/Library/Python/3.9/lib/python/site-packages (0.9.0)\n",
      "Requirement already satisfied: langchain-openai in /Users/kryptonempyrean/Library/Python/3.9/lib/python/site-packages (0.3.7)\n",
      "Requirement already satisfied: langchainhub in /Users/kryptonempyrean/Library/Python/3.9/lib/python/site-packages (0.1.21)\n",
      "Requirement already satisfied: chromadb in /Users/kryptonempyrean/Library/Python/3.9/lib/python/site-packages (0.6.3)\n",
      "Requirement already satisfied: langchain in /Users/kryptonempyrean/Library/Python/3.9/lib/python/site-packages (0.3.21)\n",
      "Requirement already satisfied: langchain-core<1.0.0,>=0.3.45 in /Users/kryptonempyrean/Library/Python/3.9/lib/python/site-packages (from langchain_community) (0.3.49)\n",
      "Requirement already satisfied: SQLAlchemy<3,>=1.4 in /Users/kryptonempyrean/Library/Python/3.9/lib/python/site-packages (from langchain_community) (2.0.38)\n",
      "Requirement already satisfied: requests<3,>=2 in /Users/kryptonempyrean/Library/Python/3.9/lib/python/site-packages (from langchain_community) (2.32.3)\n",
      "Requirement already satisfied: PyYAML>=5.3 in /Users/kryptonempyrean/Library/Python/3.9/lib/python/site-packages (from langchain_community) (6.0.2)\n",
      "Requirement already satisfied: aiohttp<4.0.0,>=3.8.3 in /Users/kryptonempyrean/Library/Python/3.9/lib/python/site-packages (from langchain_community) (3.11.13)\n",
      "Requirement already satisfied: tenacity!=8.4.0,<10,>=8.1.0 in /Users/kryptonempyrean/Library/Python/3.9/lib/python/site-packages (from langchain_community) (9.0.0)\n",
      "Requirement already satisfied: dataclasses-json<0.7,>=0.5.7 in /Users/kryptonempyrean/Library/Python/3.9/lib/python/site-packages (from langchain_community) (0.6.7)\n",
      "Requirement already satisfied: pydantic-settings<3.0.0,>=2.4.0 in /Users/kryptonempyrean/Library/Python/3.9/lib/python/site-packages (from langchain_community) (2.8.0)\n",
      "Requirement already satisfied: langsmith<0.4,>=0.1.125 in /Users/kryptonempyrean/Library/Python/3.9/lib/python/site-packages (from langchain_community) (0.3.11)\n",
      "Requirement already satisfied: httpx-sse<1.0.0,>=0.4.0 in /Users/kryptonempyrean/Library/Python/3.9/lib/python/site-packages (from langchain_community) (0.4.0)\n",
      "Requirement already satisfied: numpy<3,>=1.26.2 in /Users/kryptonempyrean/Library/Python/3.9/lib/python/site-packages (from langchain_community) (1.26.4)\n",
      "Requirement already satisfied: regex>=2022.1.18 in /Users/kryptonempyrean/Library/Python/3.9/lib/python/site-packages (from tiktoken) (2024.11.6)\n",
      "Requirement already satisfied: openai<2.0.0,>=1.58.1 in /Users/kryptonempyrean/Library/Python/3.9/lib/python/site-packages (from langchain-openai) (1.64.0)\n",
      "Requirement already satisfied: packaging<25,>=23.2 in /Users/kryptonempyrean/Library/Python/3.9/lib/python/site-packages (from langchainhub) (24.2)\n",
      "Requirement already satisfied: types-requests<3.0.0.0,>=2.31.0.2 in /Users/kryptonempyrean/Library/Python/3.9/lib/python/site-packages (from langchainhub) (2.32.0.20250301)\n",
      "Requirement already satisfied: build>=1.0.3 in /Users/kryptonempyrean/Library/Python/3.9/lib/python/site-packages (from chromadb) (1.2.2.post1)\n",
      "Requirement already satisfied: pydantic>=1.9 in /Users/kryptonempyrean/Library/Python/3.9/lib/python/site-packages (from chromadb) (2.10.6)\n",
      "Requirement already satisfied: chroma-hnswlib==0.7.6 in /Users/kryptonempyrean/Library/Python/3.9/lib/python/site-packages (from chromadb) (0.7.6)\n",
      "Requirement already satisfied: fastapi>=0.95.2 in /Users/kryptonempyrean/Library/Python/3.9/lib/python/site-packages (from chromadb) (0.115.11)\n",
      "Requirement already satisfied: uvicorn>=0.18.3 in /Users/kryptonempyrean/Library/Python/3.9/lib/python/site-packages (from uvicorn[standard]>=0.18.3->chromadb) (0.34.0)\n",
      "Requirement already satisfied: posthog>=2.4.0 in /Users/kryptonempyrean/Library/Python/3.9/lib/python/site-packages (from chromadb) (3.18.0)\n",
      "Requirement already satisfied: typing_extensions>=4.5.0 in /Users/kryptonempyrean/Library/Python/3.9/lib/python/site-packages (from chromadb) (4.12.2)\n",
      "Requirement already satisfied: onnxruntime>=1.14.1 in /Users/kryptonempyrean/Library/Python/3.9/lib/python/site-packages (from chromadb) (1.19.2)\n",
      "Requirement already satisfied: opentelemetry-api>=1.2.0 in /Users/kryptonempyrean/Library/Python/3.9/lib/python/site-packages (from chromadb) (1.30.0)\n",
      "Requirement already satisfied: opentelemetry-exporter-otlp-proto-grpc>=1.2.0 in /Users/kryptonempyrean/Library/Python/3.9/lib/python/site-packages (from chromadb) (1.30.0)\n",
      "Requirement already satisfied: opentelemetry-instrumentation-fastapi>=0.41b0 in /Users/kryptonempyrean/Library/Python/3.9/lib/python/site-packages (from chromadb) (0.51b0)\n",
      "Requirement already satisfied: opentelemetry-sdk>=1.2.0 in /Users/kryptonempyrean/Library/Python/3.9/lib/python/site-packages (from chromadb) (1.30.0)\n",
      "Requirement already satisfied: tokenizers>=0.13.2 in /Users/kryptonempyrean/Library/Python/3.9/lib/python/site-packages (from chromadb) (0.21.0)\n",
      "Requirement already satisfied: pypika>=0.48.9 in /Users/kryptonempyrean/Library/Python/3.9/lib/python/site-packages (from chromadb) (0.48.9)\n",
      "Requirement already satisfied: tqdm>=4.65.0 in /Users/kryptonempyrean/Library/Python/3.9/lib/python/site-packages (from chromadb) (4.66.6)\n",
      "Requirement already satisfied: overrides>=7.3.1 in /Users/kryptonempyrean/Library/Python/3.9/lib/python/site-packages (from chromadb) (7.7.0)\n",
      "Requirement already satisfied: importlib-resources in /Users/kryptonempyrean/Library/Python/3.9/lib/python/site-packages (from chromadb) (6.4.5)\n",
      "Requirement already satisfied: grpcio>=1.58.0 in /Users/kryptonempyrean/Library/Python/3.9/lib/python/site-packages (from chromadb) (1.70.0)\n",
      "Requirement already satisfied: bcrypt>=4.0.1 in /Users/kryptonempyrean/Library/Python/3.9/lib/python/site-packages (from chromadb) (4.3.0)\n",
      "Requirement already satisfied: typer>=0.9.0 in /Users/kryptonempyrean/Library/Python/3.9/lib/python/site-packages (from chromadb) (0.15.2)\n",
      "Requirement already satisfied: kubernetes>=28.1.0 in /Users/kryptonempyrean/Library/Python/3.9/lib/python/site-packages (from chromadb) (32.0.1)\n",
      "Requirement already satisfied: mmh3>=4.0.1 in /Users/kryptonempyrean/Library/Python/3.9/lib/python/site-packages (from chromadb) (5.1.0)\n",
      "Requirement already satisfied: orjson>=3.9.12 in /Users/kryptonempyrean/Library/Python/3.9/lib/python/site-packages (from chromadb) (3.10.15)\n",
      "Requirement already satisfied: httpx>=0.27.0 in /Users/kryptonempyrean/Library/Python/3.9/lib/python/site-packages (from chromadb) (0.28.1)\n",
      "Requirement already satisfied: rich>=10.11.0 in /Users/kryptonempyrean/Library/Python/3.9/lib/python/site-packages (from chromadb) (13.9.4)\n",
      "Requirement already satisfied: langchain-text-splitters<1.0.0,>=0.3.7 in /Users/kryptonempyrean/Library/Python/3.9/lib/python/site-packages (from langchain) (0.3.7)\n",
      "Requirement already satisfied: async-timeout<5.0.0,>=4.0.0 in /Users/kryptonempyrean/Library/Python/3.9/lib/python/site-packages (from langchain) (4.0.3)\n",
      "Requirement already satisfied: aiohappyeyeballs>=2.3.0 in /Users/kryptonempyrean/Library/Python/3.9/lib/python/site-packages (from aiohttp<4.0.0,>=3.8.3->langchain_community) (2.4.6)\n",
      "Requirement already satisfied: aiosignal>=1.1.2 in /Users/kryptonempyrean/Library/Python/3.9/lib/python/site-packages (from aiohttp<4.0.0,>=3.8.3->langchain_community) (1.3.2)\n",
      "Requirement already satisfied: attrs>=17.3.0 in /Users/kryptonempyrean/Library/Python/3.9/lib/python/site-packages (from aiohttp<4.0.0,>=3.8.3->langchain_community) (24.2.0)\n",
      "Requirement already satisfied: frozenlist>=1.1.1 in /Users/kryptonempyrean/Library/Python/3.9/lib/python/site-packages (from aiohttp<4.0.0,>=3.8.3->langchain_community) (1.5.0)\n",
      "Requirement already satisfied: multidict<7.0,>=4.5 in /Users/kryptonempyrean/Library/Python/3.9/lib/python/site-packages (from aiohttp<4.0.0,>=3.8.3->langchain_community) (6.1.0)\n",
      "Requirement already satisfied: propcache>=0.2.0 in /Users/kryptonempyrean/Library/Python/3.9/lib/python/site-packages (from aiohttp<4.0.0,>=3.8.3->langchain_community) (0.3.0)\n",
      "Requirement already satisfied: yarl<2.0,>=1.17.0 in /Users/kryptonempyrean/Library/Python/3.9/lib/python/site-packages (from aiohttp<4.0.0,>=3.8.3->langchain_community) (1.18.3)\n",
      "Requirement already satisfied: pyproject_hooks in /Users/kryptonempyrean/Library/Python/3.9/lib/python/site-packages (from build>=1.0.3->chromadb) (1.2.0)\n",
      "Requirement already satisfied: importlib-metadata>=4.6 in /Users/kryptonempyrean/Library/Python/3.9/lib/python/site-packages (from build>=1.0.3->chromadb) (6.8.0)\n",
      "Requirement already satisfied: tomli>=1.1.0 in /Users/kryptonempyrean/Library/Python/3.9/lib/python/site-packages (from build>=1.0.3->chromadb) (2.2.1)\n",
      "Requirement already satisfied: marshmallow<4.0.0,>=3.18.0 in /Users/kryptonempyrean/Library/Python/3.9/lib/python/site-packages (from dataclasses-json<0.7,>=0.5.7->langchain_community) (3.26.1)\n",
      "Requirement already satisfied: typing-inspect<1,>=0.4.0 in /Users/kryptonempyrean/Library/Python/3.9/lib/python/site-packages (from dataclasses-json<0.7,>=0.5.7->langchain_community) (0.9.0)\n",
      "Requirement already satisfied: starlette<0.47.0,>=0.40.0 in /Users/kryptonempyrean/Library/Python/3.9/lib/python/site-packages (from fastapi>=0.95.2->chromadb) (0.46.0)\n",
      "Requirement already satisfied: anyio in /Users/kryptonempyrean/Library/Python/3.9/lib/python/site-packages (from httpx>=0.27.0->chromadb) (4.8.0)\n",
      "Requirement already satisfied: certifi in /Users/kryptonempyrean/Library/Python/3.9/lib/python/site-packages (from httpx>=0.27.0->chromadb) (2024.8.30)\n",
      "Requirement already satisfied: httpcore==1.* in /Users/kryptonempyrean/Library/Python/3.9/lib/python/site-packages (from httpx>=0.27.0->chromadb) (1.0.7)\n",
      "Requirement already satisfied: idna in /Users/kryptonempyrean/Library/Python/3.9/lib/python/site-packages (from httpx>=0.27.0->chromadb) (3.10)\n",
      "Requirement already satisfied: h11<0.15,>=0.13 in /Users/kryptonempyrean/Library/Python/3.9/lib/python/site-packages (from httpcore==1.*->httpx>=0.27.0->chromadb) (0.14.0)\n",
      "Requirement already satisfied: six>=1.9.0 in /Library/Developer/CommandLineTools/Library/Frameworks/Python3.framework/Versions/3.9/lib/python3.9/site-packages (from kubernetes>=28.1.0->chromadb) (1.15.0)\n",
      "Requirement already satisfied: python-dateutil>=2.5.3 in /Users/kryptonempyrean/Library/Python/3.9/lib/python/site-packages (from kubernetes>=28.1.0->chromadb) (2.8.2)\n",
      "Requirement already satisfied: google-auth>=1.0.1 in /Users/kryptonempyrean/Library/Python/3.9/lib/python/site-packages (from kubernetes>=28.1.0->chromadb) (2.38.0)\n",
      "Requirement already satisfied: websocket-client!=0.40.0,!=0.41.*,!=0.42.*,>=0.32.0 in /Users/kryptonempyrean/Library/Python/3.9/lib/python/site-packages (from kubernetes>=28.1.0->chromadb) (1.8.0)\n",
      "Requirement already satisfied: requests-oauthlib in /Users/kryptonempyrean/Library/Python/3.9/lib/python/site-packages (from kubernetes>=28.1.0->chromadb) (2.0.0)\n",
      "Requirement already satisfied: oauthlib>=3.2.2 in /Users/kryptonempyrean/Library/Python/3.9/lib/python/site-packages (from kubernetes>=28.1.0->chromadb) (3.2.2)\n",
      "Requirement already satisfied: urllib3>=1.24.2 in /Users/kryptonempyrean/Library/Python/3.9/lib/python/site-packages (from kubernetes>=28.1.0->chromadb) (2.2.3)\n",
      "Requirement already satisfied: durationpy>=0.7 in /Users/kryptonempyrean/Library/Python/3.9/lib/python/site-packages (from kubernetes>=28.1.0->chromadb) (0.9)\n",
      "Requirement already satisfied: jsonpatch<2.0,>=1.33 in /Users/kryptonempyrean/Library/Python/3.9/lib/python/site-packages (from langchain-core<1.0.0,>=0.3.45->langchain_community) (1.33)\n",
      "Requirement already satisfied: requests-toolbelt<2.0.0,>=1.0.0 in /Users/kryptonempyrean/Library/Python/3.9/lib/python/site-packages (from langsmith<0.4,>=0.1.125->langchain_community) (1.0.0)\n",
      "Requirement already satisfied: zstandard<0.24.0,>=0.23.0 in /Users/kryptonempyrean/Library/Python/3.9/lib/python/site-packages (from langsmith<0.4,>=0.1.125->langchain_community) (0.23.0)\n",
      "Requirement already satisfied: coloredlogs in /Users/kryptonempyrean/Library/Python/3.9/lib/python/site-packages (from onnxruntime>=1.14.1->chromadb) (15.0.1)\n",
      "Requirement already satisfied: flatbuffers in /Users/kryptonempyrean/Library/Python/3.9/lib/python/site-packages (from onnxruntime>=1.14.1->chromadb) (25.2.10)\n",
      "Requirement already satisfied: protobuf in /Users/kryptonempyrean/Library/Python/3.9/lib/python/site-packages (from onnxruntime>=1.14.1->chromadb) (5.29.2)\n",
      "Requirement already satisfied: sympy in /Users/kryptonempyrean/Library/Python/3.9/lib/python/site-packages (from onnxruntime>=1.14.1->chromadb) (1.13.3)\n",
      "Requirement already satisfied: distro<2,>=1.7.0 in /Users/kryptonempyrean/Library/Python/3.9/lib/python/site-packages (from openai<2.0.0,>=1.58.1->langchain-openai) (1.9.0)\n",
      "Requirement already satisfied: jiter<1,>=0.4.0 in /Users/kryptonempyrean/Library/Python/3.9/lib/python/site-packages (from openai<2.0.0,>=1.58.1->langchain-openai) (0.8.2)\n",
      "Requirement already satisfied: sniffio in /Users/kryptonempyrean/Library/Python/3.9/lib/python/site-packages (from openai<2.0.0,>=1.58.1->langchain-openai) (1.3.1)\n",
      "Requirement already satisfied: deprecated>=1.2.6 in /Users/kryptonempyrean/Library/Python/3.9/lib/python/site-packages (from opentelemetry-api>=1.2.0->chromadb) (1.2.18)\n",
      "Requirement already satisfied: googleapis-common-protos~=1.52 in /Users/kryptonempyrean/Library/Python/3.9/lib/python/site-packages (from opentelemetry-exporter-otlp-proto-grpc>=1.2.0->chromadb) (1.68.0)\n",
      "Requirement already satisfied: opentelemetry-exporter-otlp-proto-common==1.30.0 in /Users/kryptonempyrean/Library/Python/3.9/lib/python/site-packages (from opentelemetry-exporter-otlp-proto-grpc>=1.2.0->chromadb) (1.30.0)\n",
      "Requirement already satisfied: opentelemetry-proto==1.30.0 in /Users/kryptonempyrean/Library/Python/3.9/lib/python/site-packages (from opentelemetry-exporter-otlp-proto-grpc>=1.2.0->chromadb) (1.30.0)\n",
      "Requirement already satisfied: opentelemetry-instrumentation-asgi==0.51b0 in /Users/kryptonempyrean/Library/Python/3.9/lib/python/site-packages (from opentelemetry-instrumentation-fastapi>=0.41b0->chromadb) (0.51b0)\n",
      "Requirement already satisfied: opentelemetry-instrumentation==0.51b0 in /Users/kryptonempyrean/Library/Python/3.9/lib/python/site-packages (from opentelemetry-instrumentation-fastapi>=0.41b0->chromadb) (0.51b0)\n",
      "Requirement already satisfied: opentelemetry-semantic-conventions==0.51b0 in /Users/kryptonempyrean/Library/Python/3.9/lib/python/site-packages (from opentelemetry-instrumentation-fastapi>=0.41b0->chromadb) (0.51b0)\n",
      "Requirement already satisfied: opentelemetry-util-http==0.51b0 in /Users/kryptonempyrean/Library/Python/3.9/lib/python/site-packages (from opentelemetry-instrumentation-fastapi>=0.41b0->chromadb) (0.51b0)\n",
      "Requirement already satisfied: wrapt<2.0.0,>=1.0.0 in /Users/kryptonempyrean/Library/Python/3.9/lib/python/site-packages (from opentelemetry-instrumentation==0.51b0->opentelemetry-instrumentation-fastapi>=0.41b0->chromadb) (1.17.2)\n",
      "Requirement already satisfied: asgiref~=3.0 in /Users/kryptonempyrean/Library/Python/3.9/lib/python/site-packages (from opentelemetry-instrumentation-asgi==0.51b0->opentelemetry-instrumentation-fastapi>=0.41b0->chromadb) (3.8.1)\n",
      "Requirement already satisfied: monotonic>=1.5 in /Users/kryptonempyrean/Library/Python/3.9/lib/python/site-packages (from posthog>=2.4.0->chromadb) (1.6)\n",
      "Requirement already satisfied: backoff>=1.10.0 in /Users/kryptonempyrean/Library/Python/3.9/lib/python/site-packages (from posthog>=2.4.0->chromadb) (2.2.1)\n",
      "Requirement already satisfied: annotated-types>=0.6.0 in /Users/kryptonempyrean/Library/Python/3.9/lib/python/site-packages (from pydantic>=1.9->chromadb) (0.7.0)\n",
      "Requirement already satisfied: pydantic-core==2.27.2 in /Users/kryptonempyrean/Library/Python/3.9/lib/python/site-packages (from pydantic>=1.9->chromadb) (2.27.2)\n",
      "Requirement already satisfied: python-dotenv>=0.21.0 in /Users/kryptonempyrean/Library/Python/3.9/lib/python/site-packages (from pydantic-settings<3.0.0,>=2.4.0->langchain_community) (1.0.1)\n",
      "Requirement already satisfied: charset-normalizer<4,>=2 in /Users/kryptonempyrean/Library/Python/3.9/lib/python/site-packages (from requests<3,>=2->langchain_community) (3.4.0)\n",
      "Requirement already satisfied: markdown-it-py>=2.2.0 in /Users/kryptonempyrean/Library/Python/3.9/lib/python/site-packages (from rich>=10.11.0->chromadb) (3.0.0)\n",
      "Requirement already satisfied: pygments<3.0.0,>=2.13.0 in /Users/kryptonempyrean/Library/Python/3.9/lib/python/site-packages (from rich>=10.11.0->chromadb) (2.16.1)\n",
      "Requirement already satisfied: greenlet!=0.4.17 in /Users/kryptonempyrean/Library/Python/3.9/lib/python/site-packages (from SQLAlchemy<3,>=1.4->langchain_community) (3.1.1)\n",
      "Requirement already satisfied: huggingface-hub<1.0,>=0.16.4 in /Users/kryptonempyrean/Library/Python/3.9/lib/python/site-packages (from tokenizers>=0.13.2->chromadb) (0.29.1)\n",
      "Requirement already satisfied: click>=8.0.0 in /Users/kryptonempyrean/Library/Python/3.9/lib/python/site-packages (from typer>=0.9.0->chromadb) (8.1.8)\n",
      "Requirement already satisfied: shellingham>=1.3.0 in /Users/kryptonempyrean/Library/Python/3.9/lib/python/site-packages (from typer>=0.9.0->chromadb) (1.5.4)\n",
      "Requirement already satisfied: httptools>=0.6.3 in /Users/kryptonempyrean/Library/Python/3.9/lib/python/site-packages (from uvicorn[standard]>=0.18.3->chromadb) (0.6.4)\n",
      "Requirement already satisfied: uvloop!=0.15.0,!=0.15.1,>=0.14.0 in /Users/kryptonempyrean/Library/Python/3.9/lib/python/site-packages (from uvicorn[standard]>=0.18.3->chromadb) (0.21.0)\n",
      "Requirement already satisfied: watchfiles>=0.13 in /Users/kryptonempyrean/Library/Python/3.9/lib/python/site-packages (from uvicorn[standard]>=0.18.3->chromadb) (1.0.4)\n",
      "Requirement already satisfied: websockets>=10.4 in /Users/kryptonempyrean/Library/Python/3.9/lib/python/site-packages (from uvicorn[standard]>=0.18.3->chromadb) (15.0)\n",
      "Requirement already satisfied: zipp>=3.1.0 in /Users/kryptonempyrean/Library/Python/3.9/lib/python/site-packages (from importlib-resources->chromadb) (3.16.2)\n",
      "Requirement already satisfied: exceptiongroup>=1.0.2 in /Users/kryptonempyrean/Library/Python/3.9/lib/python/site-packages (from anyio->httpx>=0.27.0->chromadb) (1.1.3)\n",
      "Requirement already satisfied: cachetools<6.0,>=2.0.0 in /Users/kryptonempyrean/Library/Python/3.9/lib/python/site-packages (from google-auth>=1.0.1->kubernetes>=28.1.0->chromadb) (5.5.0)\n",
      "Requirement already satisfied: pyasn1-modules>=0.2.1 in /Users/kryptonempyrean/Library/Python/3.9/lib/python/site-packages (from google-auth>=1.0.1->kubernetes>=28.1.0->chromadb) (0.4.1)\n",
      "Requirement already satisfied: rsa<5,>=3.1.4 in /Users/kryptonempyrean/Library/Python/3.9/lib/python/site-packages (from google-auth>=1.0.1->kubernetes>=28.1.0->chromadb) (4.9)\n",
      "Requirement already satisfied: filelock in /Users/kryptonempyrean/Library/Python/3.9/lib/python/site-packages (from huggingface-hub<1.0,>=0.16.4->tokenizers>=0.13.2->chromadb) (3.16.1)\n",
      "Requirement already satisfied: fsspec>=2023.5.0 in /Users/kryptonempyrean/Library/Python/3.9/lib/python/site-packages (from huggingface-hub<1.0,>=0.16.4->tokenizers>=0.13.2->chromadb) (2024.10.0)\n",
      "Requirement already satisfied: jsonpointer>=1.9 in /Users/kryptonempyrean/Library/Python/3.9/lib/python/site-packages (from jsonpatch<2.0,>=1.33->langchain-core<1.0.0,>=0.3.45->langchain_community) (3.0.0)\n",
      "Requirement already satisfied: mdurl~=0.1 in /Users/kryptonempyrean/Library/Python/3.9/lib/python/site-packages (from markdown-it-py>=2.2.0->rich>=10.11.0->chromadb) (0.1.2)\n",
      "Requirement already satisfied: mypy-extensions>=0.3.0 in /Users/kryptonempyrean/Library/Python/3.9/lib/python/site-packages (from typing-inspect<1,>=0.4.0->dataclasses-json<0.7,>=0.5.7->langchain_community) (1.0.0)\n",
      "Requirement already satisfied: humanfriendly>=9.1 in /Users/kryptonempyrean/Library/Python/3.9/lib/python/site-packages (from coloredlogs->onnxruntime>=1.14.1->chromadb) (10.0)\n",
      "Requirement already satisfied: mpmath<1.4,>=1.1.0 in /Users/kryptonempyrean/Library/Python/3.9/lib/python/site-packages (from sympy->onnxruntime>=1.14.1->chromadb) (1.3.0)\n",
      "Requirement already satisfied: pyasn1<0.7.0,>=0.4.6 in /Users/kryptonempyrean/Library/Python/3.9/lib/python/site-packages (from pyasn1-modules>=0.2.1->google-auth>=1.0.1->kubernetes>=28.1.0->chromadb) (0.6.1)\n"
     ]
    }
   ],
   "source": [
    "! pip install langchain_community tiktoken langchain-openai langchainhub chromadb langchain"
   ]
  },
  {
   "cell_type": "code",
   "execution_count": 19,
   "metadata": {},
   "outputs": [],
   "source": [
    "import os\n",
    "os.environ['LANGCHAIN_TRACING_V2'] = 'true'\n",
    "os.environ['LANGCHAIN_ENDPOINT'] = 'https://api.smith.langchain.com'\n",
    "os.environ['LANGCHAIN_API_KEY'] = \"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\""
   ]
  },
  {
   "cell_type": "code",
   "execution_count": 3,
   "metadata": {},
   "outputs": [
    {
     "name": "stdout",
     "output_type": "stream",
     "text": [
      "Defaulting to user installation because normal site-packages is not writeable\n",
      "Requirement already satisfied: langchain-ollama in /Users/kryptonempyrean/Library/Python/3.9/lib/python/site-packages (0.3.0)\n",
      "Requirement already satisfied: ollama<1,>=0.4.4 in /Users/kryptonempyrean/Library/Python/3.9/lib/python/site-packages (from langchain-ollama) (0.4.7)\n",
      "Requirement already satisfied: langchain-core<1.0.0,>=0.3.47 in /Users/kryptonempyrean/Library/Python/3.9/lib/python/site-packages (from langchain-ollama) (0.3.49)\n",
      "Requirement already satisfied: langsmith<0.4,>=0.1.125 in /Users/kryptonempyrean/Library/Python/3.9/lib/python/site-packages (from langchain-core<1.0.0,>=0.3.47->langchain-ollama) (0.3.11)\n",
      "Requirement already satisfied: tenacity!=8.4.0,<10.0.0,>=8.1.0 in /Users/kryptonempyrean/Library/Python/3.9/lib/python/site-packages (from langchain-core<1.0.0,>=0.3.47->langchain-ollama) (9.0.0)\n",
      "Requirement already satisfied: jsonpatch<2.0,>=1.33 in /Users/kryptonempyrean/Library/Python/3.9/lib/python/site-packages (from langchain-core<1.0.0,>=0.3.47->langchain-ollama) (1.33)\n",
      "Requirement already satisfied: PyYAML>=5.3 in /Users/kryptonempyrean/Library/Python/3.9/lib/python/site-packages (from langchain-core<1.0.0,>=0.3.47->langchain-ollama) (6.0.2)\n",
      "Requirement already satisfied: packaging<25,>=23.2 in /Users/kryptonempyrean/Library/Python/3.9/lib/python/site-packages (from langchain-core<1.0.0,>=0.3.47->langchain-ollama) (24.2)\n",
      "Requirement already satisfied: typing-extensions>=4.7 in /Users/kryptonempyrean/Library/Python/3.9/lib/python/site-packages (from langchain-core<1.0.0,>=0.3.47->langchain-ollama) (4.12.2)\n",
      "Requirement already satisfied: pydantic<3.0.0,>=2.5.2 in /Users/kryptonempyrean/Library/Python/3.9/lib/python/site-packages (from langchain-core<1.0.0,>=0.3.47->langchain-ollama) (2.10.6)\n",
      "Requirement already satisfied: httpx<0.29,>=0.27 in /Users/kryptonempyrean/Library/Python/3.9/lib/python/site-packages (from ollama<1,>=0.4.4->langchain-ollama) (0.28.1)\n",
      "Requirement already satisfied: anyio in /Users/kryptonempyrean/Library/Python/3.9/lib/python/site-packages (from httpx<0.29,>=0.27->ollama<1,>=0.4.4->langchain-ollama) (4.8.0)\n",
      "Requirement already satisfied: certifi in /Users/kryptonempyrean/Library/Python/3.9/lib/python/site-packages (from httpx<0.29,>=0.27->ollama<1,>=0.4.4->langchain-ollama) (2024.8.30)\n",
      "Requirement already satisfied: httpcore==1.* in /Users/kryptonempyrean/Library/Python/3.9/lib/python/site-packages (from httpx<0.29,>=0.27->ollama<1,>=0.4.4->langchain-ollama) (1.0.7)\n",
      "Requirement already satisfied: idna in /Users/kryptonempyrean/Library/Python/3.9/lib/python/site-packages (from httpx<0.29,>=0.27->ollama<1,>=0.4.4->langchain-ollama) (3.10)\n",
      "Requirement already satisfied: h11<0.15,>=0.13 in /Users/kryptonempyrean/Library/Python/3.9/lib/python/site-packages (from httpcore==1.*->httpx<0.29,>=0.27->ollama<1,>=0.4.4->langchain-ollama) (0.14.0)\n",
      "Requirement already satisfied: jsonpointer>=1.9 in /Users/kryptonempyrean/Library/Python/3.9/lib/python/site-packages (from jsonpatch<2.0,>=1.33->langchain-core<1.0.0,>=0.3.47->langchain-ollama) (3.0.0)\n",
      "Requirement already satisfied: orjson<4.0.0,>=3.9.14 in /Users/kryptonempyrean/Library/Python/3.9/lib/python/site-packages (from langsmith<0.4,>=0.1.125->langchain-core<1.0.0,>=0.3.47->langchain-ollama) (3.10.15)\n",
      "Requirement already satisfied: requests<3,>=2 in /Users/kryptonempyrean/Library/Python/3.9/lib/python/site-packages (from langsmith<0.4,>=0.1.125->langchain-core<1.0.0,>=0.3.47->langchain-ollama) (2.32.3)\n",
      "Requirement already satisfied: requests-toolbelt<2.0.0,>=1.0.0 in /Users/kryptonempyrean/Library/Python/3.9/lib/python/site-packages (from langsmith<0.4,>=0.1.125->langchain-core<1.0.0,>=0.3.47->langchain-ollama) (1.0.0)\n",
      "Requirement already satisfied: zstandard<0.24.0,>=0.23.0 in /Users/kryptonempyrean/Library/Python/3.9/lib/python/site-packages (from langsmith<0.4,>=0.1.125->langchain-core<1.0.0,>=0.3.47->langchain-ollama) (0.23.0)\n",
      "Requirement already satisfied: annotated-types>=0.6.0 in /Users/kryptonempyrean/Library/Python/3.9/lib/python/site-packages (from pydantic<3.0.0,>=2.5.2->langchain-core<1.0.0,>=0.3.47->langchain-ollama) (0.7.0)\n",
      "Requirement already satisfied: pydantic-core==2.27.2 in /Users/kryptonempyrean/Library/Python/3.9/lib/python/site-packages (from pydantic<3.0.0,>=2.5.2->langchain-core<1.0.0,>=0.3.47->langchain-ollama) (2.27.2)\n",
      "Requirement already satisfied: charset-normalizer<4,>=2 in /Users/kryptonempyrean/Library/Python/3.9/lib/python/site-packages (from requests<3,>=2->langsmith<0.4,>=0.1.125->langchain-core<1.0.0,>=0.3.47->langchain-ollama) (3.4.0)\n",
      "Requirement already satisfied: urllib3<3,>=1.21.1 in /Users/kryptonempyrean/Library/Python/3.9/lib/python/site-packages (from requests<3,>=2->langsmith<0.4,>=0.1.125->langchain-core<1.0.0,>=0.3.47->langchain-ollama) (2.2.3)\n",
      "Requirement already satisfied: exceptiongroup>=1.0.2 in /Users/kryptonempyrean/Library/Python/3.9/lib/python/site-packages (from anyio->httpx<0.29,>=0.27->ollama<1,>=0.4.4->langchain-ollama) (1.1.3)\n",
      "Requirement already satisfied: sniffio>=1.1 in /Users/kryptonempyrean/Library/Python/3.9/lib/python/site-packages (from anyio->httpx<0.29,>=0.27->ollama<1,>=0.4.4->langchain-ollama) (1.3.1)\n"
     ]
    }
   ],
   "source": [
    "! pip install langchain-ollama"
   ]
  },
  {
   "cell_type": "code",
   "execution_count": 4,
   "metadata": {},
   "outputs": [
    {
     "name": "stdout",
     "output_type": "stream",
     "text": [
      "Defaulting to user installation because normal site-packages is not writeable\n",
      "Requirement already satisfied: pypdf in /Users/kryptonempyrean/Library/Python/3.9/lib/python/site-packages (5.4.0)\n",
      "Requirement already satisfied: typing_extensions>=4.0 in /Users/kryptonempyrean/Library/Python/3.9/lib/python/site-packages (from pypdf) (4.12.2)\n"
     ]
    }
   ],
   "source": [
    "! pip install pypdf"
   ]
  },
  {
   "cell_type": "code",
   "execution_count": 20,
   "metadata": {},
   "outputs": [],
   "source": [
    "import bs4\n",
    "from langchain.text_splitter import RecursiveCharacterTextSplitter\n",
    "from langchain_community.document_loaders import PyPDFLoader\n",
    "from langchain_community.vectorstores import Chroma\n",
    "from langchain_core.output_parsers import StrOutputParser\n",
    "from langchain_core.runnables import RunnablePassthrough\n",
    "from langchain.embeddings import HuggingFaceEmbeddings\n",
    "from langchain.llms import Ollama\n",
    "from langchain.prompts import PromptTemplate"
   ]
  },
  {
   "cell_type": "code",
   "execution_count": 21,
   "metadata": {},
   "outputs": [
    {
     "name": "stderr",
     "output_type": "stream",
     "text": [
      "Ignoring wrong pointing object 169 0 (offset 0)\n",
      "Ignoring wrong pointing object 178 0 (offset 0)\n"
     ]
    }
   ],
   "source": [
    "#### INDEXING ####\n",
    "\n",
    "# Load Documents\n",
    "file_path = \"/Users/kryptonempyrean/Desktop/TS3043166.pdf\"\n",
    "loader = PyPDFLoader(file_path)\n",
    "\n",
    "docs = loader.load()"
   ]
  },
  {
   "cell_type": "code",
   "execution_count": 22,
   "metadata": {},
   "outputs": [],
   "source": [
    "# Split\n",
    "text_splitter = RecursiveCharacterTextSplitter(chunk_size=1000, chunk_overlap=200)\n",
    "splits = text_splitter.split_documents(docs)"
   ]
  },
  {
   "cell_type": "code",
   "execution_count": 23,
   "metadata": {},
   "outputs": [],
   "source": [
    "# Embeddings (use HuggingFace for local embedding)\n",
    "embeddings = HuggingFaceEmbeddings(model_name=\"sentence-transformers/all-MiniLM-L6-v2\")"
   ]
  },
  {
   "cell_type": "code",
   "execution_count": 24,
   "metadata": {},
   "outputs": [],
   "source": [
    "# Vector Store\n",
    "vectorstore = Chroma.from_documents(documents=splits, embedding=embeddings)\n",
    "retriever = vectorstore.as_retriever(search_kwargs={\"k\": 3})"
   ]
  },
  {
   "cell_type": "code",
   "execution_count": 25,
   "metadata": {},
   "outputs": [],
   "source": [
    "#### RETRIEVAL + GENERATION ####\n",
    "\n",
    "# Prompt \n",
    "prompt = PromptTemplate(\n",
    "    input_variables=[\"context\", \"question\"],\n",
    "    template=\"\"\"\n",
    "Use the following context to answer the question. Be concise and specific.\n",
    "\n",
    "Context:\n",
    "{context}\n",
    "\n",
    "Question:\n",
    "{question}\n",
    "\"\"\",\n",
    ")"
   ]
  },
  {
   "cell_type": "code",
   "execution_count": 26,
   "metadata": {},
   "outputs": [],
   "source": [
    "# LLM using Ollama and LLaMA 3\n",
    "llm = Ollama(model=\"llama3\", temperature=0)"
   ]
  },
  {
   "cell_type": "code",
   "execution_count": 27,
   "metadata": {},
   "outputs": [],
   "source": [
    "# Format function\n",
    "def format_docs(docs):\n",
    "    return \"\\n\\n\".join(doc.page_content for doc in docs)"
   ]
  },
  {
   "cell_type": "code",
   "execution_count": 28,
   "metadata": {},
   "outputs": [],
   "source": [
    "# RAG chain\n",
    "rag_chain = (\n",
    "    {\"context\": retriever | format_docs, \"question\": RunnablePassthrough()}\n",
    "    | prompt\n",
    "    | llm\n",
    "    | StrOutputParser()\n",
    ")"
   ]
  },
  {
   "cell_type": "code",
   "execution_count": 16,
   "metadata": {},
   "outputs": [
    {
     "name": "stderr",
     "output_type": "stream",
     "text": [
      "Failed to send compressed multipart ingest: langsmith.utils.LangSmithError: Failed to POST https://api.smith.langchain.com/runs/multipart in LangSmith API. HTTPError('403 Client Error: Forbidden for url: https://api.smith.langchain.com/runs/multipart', '{\"error\":\"Forbidden\"}\\n')\n",
      "Failed to send compressed multipart ingest: langsmith.utils.LangSmithError: Failed to POST https://api.smith.langchain.com/runs/multipart in LangSmith API. HTTPError('403 Client Error: Forbidden for url: https://api.smith.langchain.com/runs/multipart', '{\"error\":\"Forbidden\"}\\n')\n"
     ]
    },
    {
     "name": "stdout",
     "output_type": "stream",
     "text": [
      "CLALIT is the largest provider of public and semi-private health services in Israel, which runs as a not-for-profit entity under Israeli law.\n",
      "tags=['Chroma', 'HuggingFaceEmbeddings'] vectorstore=<langchain_community.vectorstores.chroma.Chroma object at 0x13d06d280> search_kwargs={}\n"
     ]
    },
    {
     "name": "stderr",
     "output_type": "stream",
     "text": [
      "Failed to send compressed multipart ingest: langsmith.utils.LangSmithError: Failed to POST https://api.smith.langchain.com/runs/multipart in LangSmith API. HTTPError('403 Client Error: Forbidden for url: https://api.smith.langchain.com/runs/multipart', '{\"error\":\"Forbidden\"}\\n')\n"
     ]
    }
   ],
   "source": [
    "# Run the chain\n",
    "response = rag_chain.invoke(\"What is CLALIT?\")\n",
    "print(response)\n",
    "print(retriever)"
   ]
  },
  {
   "cell_type": "code",
   "execution_count": 29,
   "metadata": {},
   "outputs": [
    {
     "name": "stdout",
     "output_type": "stream",
     "text": [
      "📚 CONTEXT:\n",
      "\n",
      "2D a t a a n d M e t h o d s\n",
      "2.1 Data Description\n",
      "The following work is based on the analysis of a dataset retrieved from the\n",
      "CLALIT Health Services Israeli database. This is the largest provider of\n",
      "public and semi-private health services in Israel. Under Israeli law, it is run\n",
      "as a not-for-proﬁt entity. The data at hand has been collected between Jan-\n",
      "uary, 2002 and December 2022. It has been optimally designed to study the\n",
      "relation between Psoriasis and Male Infertility in the available subjects. Full\n",
      "anonimity of subjects has been assured by the Services of Israel, ensuring all\n",
      "patient information was de-identiﬁed.\n",
      "The CLALIT dataset, maintained by Israel’s largest health services organi-\n",
      "zation, provides comprehensive records for randomly selected members who\n",
      "receive routine healthcare services. All medical diagnoses (including psori-\n",
      "asis and various comorbidities) are systematically entered by the treating\n",
      "\n",
      "2D a t a a n d M e t h o d s\n",
      "2.1 Data Description\n",
      "The following work is based on the analysis of a dataset retrieved from the\n",
      "CLALIT Health Services Israeli database. This is the largest provider of\n",
      "public and semi-private health services in Israel. Under Israeli law, it is run\n",
      "as a not-for-proﬁt entity. The data at hand has been collected between Jan-\n",
      "uary, 2002 and December 2022. It has been optimally designed to study the\n",
      "relation between Psoriasis and Male Infertility in the available subjects. Full\n",
      "anonimity of subjects has been assured by the Services of Israel, ensuring all\n",
      "patient information was de-identiﬁed.\n",
      "The CLALIT dataset, maintained by Israel’s largest health services organi-\n",
      "zation, provides comprehensive records for randomly selected members who\n",
      "receive routine healthcare services. All medical diagnoses (including psori-\n",
      "asis and various comorbidities) are systematically entered by the treating\n",
      "\n",
      "approximately 2% of the entire cohort. This skew arises from the dataset’s\n",
      "original design, which prioritized capturing a Psoriasis group and a corre-\n",
      "sponding Control group. Consequently, while other comorbidities (including\n",
      "infertility) are recorded for each patient, they were not the primary focus of\n",
      "the data collection process.\n",
      "The dataset at hand consists of 280,450 patients, equally split between a\n",
      "Psoriasis group and a Control group. Starting from the original CLALIT\n",
      "dataset, for each patient we recorded the (i) date of birth, (ii) group in which\n",
      "the patient ended (Psoriasis versus Control), (iii) age, (iv) sex, (v) the Pso-\n",
      "riasis diagnosis date, which would be unavailable under Control group, and\n",
      "a series of comorbidities with the potential date of diagnosis. Infertility is\n",
      "13\n",
      "\n",
      "================================================================================\n",
      "\n",
      "🤖 RESPONSE:\n",
      "\n",
      "CLALIT is Israel's largest provider of public and semi-private health services, run as a not-for-profit entity.\n"
     ]
    },
    {
     "name": "stderr",
     "output_type": "stream",
     "text": [
      "Failed to send compressed multipart ingest: langsmith.utils.LangSmithError: Failed to POST https://api.smith.langchain.com/runs/multipart in LangSmith API. HTTPError('403 Client Error: Forbidden for url: https://api.smith.langchain.com/runs/multipart', '{\"error\":\"Forbidden\"}\\n')\n",
      "Failed to send compressed multipart ingest: langsmith.utils.LangSmithError: Failed to POST https://api.smith.langchain.com/runs/multipart in LangSmith API. HTTPError('403 Client Error: Forbidden for url: https://api.smith.langchain.com/runs/multipart', '{\"error\":\"Forbidden\"}\\n')\n"
     ]
    }
   ],
   "source": [
    "# Step 1: Retrieve relevant docs\n",
    "query = \"What is CLALIT?\"\n",
    "retrieved_docs = retriever.invoke(query)\n",
    "\n",
    "# Step 2: Format the context\n",
    "context = format_docs(retrieved_docs)\n",
    "\n",
    "# Optional: Print the context\n",
    "print(\"📚 CONTEXT:\\n\")\n",
    "print(context)\n",
    "print(\"\\n\" + \"=\"*80 + \"\\n\")\n",
    "\n",
    "# Step 3: Run prompt → LLM → Output parser\n",
    "filled_prompt = prompt.format(context=context, question=query)\n",
    "response = llm.invoke(filled_prompt)\n",
    "response = StrOutputParser().invoke(response)\n",
    "\n",
    "# Step 4: Print the final answer\n",
    "print(\"🤖 RESPONSE:\\n\")\n",
    "print(response)\n"
   ]
  },
  {
   "cell_type": "code",
   "execution_count": 30,
   "metadata": {},
   "outputs": [
    {
     "name": "stderr",
     "output_type": "stream",
     "text": [
      "Failed to send compressed multipart ingest: langsmith.utils.LangSmithError: Failed to POST https://api.smith.langchain.com/runs/multipart in LangSmith API. HTTPError('403 Client Error: Forbidden for url: https://api.smith.langchain.com/runs/multipart', '{\"error\":\"Forbidden\"}\\n')\n"
     ]
    },
    {
     "name": "stdout",
     "output_type": "stream",
     "text": [
      "📚 CONTEXT:\n",
      "\n",
      "anisms and novel treatment approaches. Furthermore, recent biological and\n",
      "clinical studies have uncovered a subtle but deep relation with conditions of\n",
      "male infertility in diﬀerent psoriatic patients. This is precisely, the point that\n",
      "this study tries to focus on.\n",
      "According to the World Health Organization (WHO), infertility is deﬁned\n",
      "as the absence of conception after 12–24 months of regular, unprotected in-\n",
      "tercourse. However, the term “infertility” can be reﬁned into true “sterility,”\n",
      "where no medical intervention can restore fertility, and “subfertility,” which\n",
      "may be overcome with appropriate treatments. About 15–20% of couples\n",
      "experience diﬃculty conceiving, inﬂuenced partly by social factors (e.g., de-\n",
      "layed family planning).\n",
      "Male infertility can be classiﬁed as pre-testicular (secretory) or testicular\n",
      "9\n",
      "\n",
      "anisms and novel treatment approaches. Furthermore, recent biological and\n",
      "clinical studies have uncovered a subtle but deep relation with conditions of\n",
      "male infertility in diﬀerent psoriatic patients. This is precisely, the point that\n",
      "this study tries to focus on.\n",
      "According to the World Health Organization (WHO), infertility is deﬁned\n",
      "as the absence of conception after 12–24 months of regular, unprotected in-\n",
      "tercourse. However, the term “infertility” can be reﬁned into true “sterility,”\n",
      "where no medical intervention can restore fertility, and “subfertility,” which\n",
      "may be overcome with appropriate treatments. About 15–20% of couples\n",
      "experience diﬃculty conceiving, inﬂuenced partly by social factors (e.g., de-\n",
      "layed family planning).\n",
      "Male infertility can be classiﬁed as pre-testicular (secretory) or testicular\n",
      "9\n",
      "\n",
      "Finally, we provide a quick summary of age stratiﬁcation within male subjects\n",
      "divided between those with an Infertility diagnosis versus patients without\n",
      "(67 ) .\n",
      "Figure 6: Age Distribution in Male Infertile patients.\n",
      "20\n",
      "\n",
      "================================================================================\n",
      "\n"
     ]
    },
    {
     "name": "stderr",
     "output_type": "stream",
     "text": [
      "Failed to send compressed multipart ingest: langsmith.utils.LangSmithError: Failed to POST https://api.smith.langchain.com/runs/multipart in LangSmith API. HTTPError('403 Client Error: Forbidden for url: https://api.smith.langchain.com/runs/multipart', '{\"error\":\"Forbidden\"}\\n')\n"
     ]
    },
    {
     "name": "stdout",
     "output_type": "stream",
     "text": [
      "🤖 RESPONSE:\n",
      "\n",
      "According to the context, there is a subtle but deep relation between conditions of psoriatic arthropathy and male infertility. The study aims to focus on this point, suggesting that there may be an underlying connection between the two.\n"
     ]
    },
    {
     "name": "stderr",
     "output_type": "stream",
     "text": [
      "Failed to send compressed multipart ingest: langsmith.utils.LangSmithError: Failed to POST https://api.smith.langchain.com/runs/multipart in LangSmith API. HTTPError('403 Client Error: Forbidden for url: https://api.smith.langchain.com/runs/multipart', '{\"error\":\"Forbidden\"}\\n')\n"
     ]
    }
   ],
   "source": [
    "# Step 1: Retrieve relevant docs\n",
    "query = \"Hoe does Arthropathy relate to male infertility?\"\n",
    "retrieved_docs = retriever.invoke(query)\n",
    "\n",
    "# Step 2: Format the context\n",
    "context = format_docs(retrieved_docs)\n",
    "\n",
    "# Optional: Print the context\n",
    "print(\"📚 CONTEXT:\\n\")\n",
    "print(context)\n",
    "print(\"\\n\" + \"=\"*80 + \"\\n\")\n",
    "\n",
    "# Step 3: Run prompt → LLM → Output parser\n",
    "filled_prompt = prompt.format(context=context, question=query)\n",
    "response = llm.invoke(filled_prompt)\n",
    "response = StrOutputParser().invoke(response)\n",
    "\n",
    "# Step 4: Print the final answer\n",
    "print(\"🤖 RESPONSE:\\n\")\n",
    "print(response)"
   ]
  },
  {
   "cell_type": "code",
   "execution_count": null,
   "metadata": {},
   "outputs": [],
   "source": []
  }
 ],
 "metadata": {
  "kernelspec": {
   "display_name": "Python 3",
   "language": "python",
   "name": "python3"
  },
  "language_info": {
   "codemirror_mode": {
    "name": "ipython",
    "version": 3
   },
   "file_extension": ".py",
   "mimetype": "text/x-python",
   "name": "python",
   "nbconvert_exporter": "python",
   "pygments_lexer": "ipython3",
   "version": "3.9.6"
  }
 },
 "nbformat": 4,
 "nbformat_minor": 2
}
